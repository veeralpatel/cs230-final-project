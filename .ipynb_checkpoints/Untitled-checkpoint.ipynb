{
 "cells": [
  {
   "cell_type": "code",
   "execution_count": 4,
   "metadata": {},
   "outputs": [],
   "source": [
    "import numpy as np\n",
    "import pickle\n",
    "\n",
    "X = pickle.load(open('train_x.pkl', 'rb'))\n",
    "Y = pickle.load(open('train_y.pkl', 'rb'))"
   ]
  },
  {
   "cell_type": "code",
   "execution_count": 5,
   "metadata": {},
   "outputs": [
    {
     "data": {
      "text/plain": [
       "array([[3995, 1528,  858, ..., 5001, 5001, 1610],\n",
       "       [1035, 4367,  225, ..., 3059, 1710, 3059],\n",
       "       [ 486, 2793, 2471, ..., 3101, 1798, 4209],\n",
       "       ..., \n",
       "       [1712, 1798, 3285, ..., 4557, 1646, 2546],\n",
       "       [ 933, 4417, 1135, ..., 4516, 1714, 1135],\n",
       "       [5001, 4542,  209, ..., 3950,  116, 1035]])"
      ]
     },
     "execution_count": 5,
     "metadata": {},
     "output_type": "execute_result"
    }
   ],
   "source": [
    "X"
   ]
  },
  {
   "cell_type": "code",
   "execution_count": 6,
   "metadata": {},
   "outputs": [],
   "source": [
    "one_hot_everything = []\n",
    "\n",
    "for array in X:\n",
    "    one_hot_matrix = np.zeros((30,5002))\n",
    "    for i,number in enumerate(array):\n",
    "        one_hot_matrix[i][number] = 1\n",
    "    one_hot_everything.append(one_hot_matrix)"
   ]
  }
 ],
 "metadata": {
  "kernelspec": {
   "display_name": "Python 2",
   "language": "python",
   "name": "python2"
  },
  "language_info": {
   "codemirror_mode": {
    "name": "ipython",
    "version": 2
   },
   "file_extension": ".py",
   "mimetype": "text/x-python",
   "name": "python",
   "nbconvert_exporter": "python",
   "pygments_lexer": "ipython2",
   "version": "2.7.10"
  }
 },
 "nbformat": 4,
 "nbformat_minor": 2
}
